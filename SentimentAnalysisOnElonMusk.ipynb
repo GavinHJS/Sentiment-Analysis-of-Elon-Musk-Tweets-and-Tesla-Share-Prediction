{
 "cells": [
  {
   "cell_type": "markdown",
   "metadata": {},
   "source": [
    "## DS102 Project :Analysis of Elon Musk's tweet and prediction of Tesla stock price based on the sentiment of his tweets.\n"
   ]
  },
  {
   "cell_type": "markdown",
   "metadata": {},
   "source": [
    "Name: Hui Jia Shun | Chen LiangRui <br>\n",
    "Class: 3 March 2019 7.00pm"
   ]
  },
  {
   "cell_type": "markdown",
   "metadata": {},
   "source": [
    "## Problem statement\n"
   ]
  },
  {
   "cell_type": "markdown",
   "metadata": {},
   "source": [
    "It is observed that Tesla's stocks have been rising rapidly through the years and it has been greatly attributed to its CEO, Elon Musk. We would like to see how vital of a role Elon is in the valuation of his company, Tesla. We determine his influence through the sentiment of his tweets."
   ]
  },
  {
   "cell_type": "markdown",
   "metadata": {},
   "source": [
    "## Hypothesis"
   ]
  },
  {
   "cell_type": "markdown",
   "metadata": {},
   "source": [
    "It is our speculation that the price of Tesla stocks are positively correlated with the nature or the sentiment of Elon's tweets. We believe that if Elon tweets something relatively positive, he will inspire confidence in investors which results in the prices rising. If he tweets something negative, Tesla's stock price will drop. "
   ]
  },
  {
   "cell_type": "markdown",
   "metadata": {},
   "source": [
    "## Dataset"
   ]
  },
  {
   "cell_type": "markdown",
   "metadata": {},
   "source": [
    "The dataset that is selected is from Kaggle. One of it is Tesla stock prices through the years and the other with Elon Musk's Tweet. Because we are trying to find out how the tweets affect the stock price, we primarily use these two datasets. The links are provided below:<br>\n",
    "https://www.kaggle.com/kulgen/elon-musks-tweets<br>\n",
    "https://www.kaggle.com/rpaguirre/tesla-stock-price"
   ]
  },
  {
   "cell_type": "markdown",
   "metadata": {},
   "source": [
    "## 1. Importing the relevant libraries"
   ]
  },
  {
   "cell_type": "markdown",
   "metadata": {},
   "source": [
    "In this project, we heavily rely on the library nltk and scikitlearn to do text analysis and stock prediction."
   ]
  },
  {
   "cell_type": "code",
   "execution_count": 1,
   "metadata": {},
   "outputs": [],
   "source": [
    "import pandas as pd\n",
    "import seaborn as sns\n",
    "import matplotlib.pyplot as plt\n",
    "import seaborn as sns\n",
    "import numpy as np\n",
    "import re\n",
    "import nltk\n",
    "from wordcloud import WordCloud\n",
    "import matplotlib.pyplot as plt\n",
    "import statsmodels.api as sm"
   ]
  },
  {
   "cell_type": "code",
   "execution_count": 2,
   "metadata": {},
   "outputs": [],
   "source": [
    "from nltk.stem import PorterStemmer\n",
    "from nltk.tokenize import word_tokenize\n",
    "from nltk.corpus import stopwords,words\n",
    "from nltk.sentiment.vader import SentimentIntensityAnalyzer\n",
    "from sklearn.model_selection import train_test_split"
   ]
  },
  {
   "cell_type": "code",
   "execution_count": 3,
   "metadata": {},
   "outputs": [
    {
     "name": "stderr",
     "output_type": "stream",
     "text": [
      "[nltk_data] Downloading package punkt to\n",
      "[nltk_data]     C:\\Users\\Gavin\\AppData\\Roaming\\nltk_data...\n",
      "[nltk_data]   Unzipping tokenizers\\punkt.zip.\n",
      "[nltk_data] Downloading package stopwords to\n",
      "[nltk_data]     C:\\Users\\Gavin\\AppData\\Roaming\\nltk_data...\n",
      "[nltk_data]   Package stopwords is already up-to-date!\n",
      "[nltk_data] Downloading package averaged_perceptron_tagger to\n",
      "[nltk_data]     C:\\Users\\Gavin\\AppData\\Roaming\\nltk_data...\n",
      "[nltk_data]   Unzipping taggers\\averaged_perceptron_tagger.zip.\n",
      "[nltk_data] Downloading package wordnet to\n",
      "[nltk_data]     C:\\Users\\Gavin\\AppData\\Roaming\\nltk_data...\n",
      "[nltk_data]   Unzipping corpora\\wordnet.zip.\n",
      "[nltk_data] Downloading package stopwords to\n",
      "[nltk_data]     C:\\Users\\Gavin\\AppData\\Roaming\\nltk_data...\n",
      "[nltk_data]   Package stopwords is already up-to-date!\n",
      "[nltk_data] Downloading package words to\n",
      "[nltk_data]     C:\\Users\\Gavin\\AppData\\Roaming\\nltk_data...\n",
      "[nltk_data]   Unzipping corpora\\words.zip.\n"
     ]
    },
    {
     "data": {
      "text/plain": [
       "True"
      ]
     },
     "execution_count": 3,
     "metadata": {},
     "output_type": "execute_result"
    }
   ],
   "source": [
    "nltk.download('punkt')\n",
    "nltk.download('stopwords')\n",
    "nltk.download('averaged_perceptron_tagger')\n",
    "nltk.download('wordnet')\n",
    "nltk.download('stopwords')\n",
    "nltk.download(\"words\")"
   ]
  },
  {
   "cell_type": "markdown",
   "metadata": {},
   "source": [
    "## 2. Reading csv into dataframe"
   ]
  },
  {
   "cell_type": "markdown",
   "metadata": {},
   "source": [
    "First we read the dataset with Tesla's stock price."
   ]
  },
  {
   "cell_type": "code",
   "execution_count": 4,
   "metadata": {},
   "outputs": [
    {
     "data": {
      "text/html": [
       "<div>\n",
       "<style scoped>\n",
       "    .dataframe tbody tr th:only-of-type {\n",
       "        vertical-align: middle;\n",
       "    }\n",
       "\n",
       "    .dataframe tbody tr th {\n",
       "        vertical-align: top;\n",
       "    }\n",
       "\n",
       "    .dataframe thead th {\n",
       "        text-align: right;\n",
       "    }\n",
       "</style>\n",
       "<table border=\"1\" class=\"dataframe\">\n",
       "  <thead>\n",
       "    <tr style=\"text-align: right;\">\n",
       "      <th></th>\n",
       "      <th>Date</th>\n",
       "      <th>Open</th>\n",
       "      <th>High</th>\n",
       "      <th>Low</th>\n",
       "      <th>Close</th>\n",
       "      <th>Volume</th>\n",
       "      <th>Adj Close</th>\n",
       "    </tr>\n",
       "  </thead>\n",
       "  <tbody>\n",
       "    <tr>\n",
       "      <td>0</td>\n",
       "      <td>6/29/2010</td>\n",
       "      <td>19.000000</td>\n",
       "      <td>25.00</td>\n",
       "      <td>17.540001</td>\n",
       "      <td>23.889999</td>\n",
       "      <td>18766300</td>\n",
       "      <td>23.889999</td>\n",
       "    </tr>\n",
       "    <tr>\n",
       "      <td>1</td>\n",
       "      <td>6/30/2010</td>\n",
       "      <td>25.790001</td>\n",
       "      <td>30.42</td>\n",
       "      <td>23.299999</td>\n",
       "      <td>23.830000</td>\n",
       "      <td>17187100</td>\n",
       "      <td>23.830000</td>\n",
       "    </tr>\n",
       "    <tr>\n",
       "      <td>2</td>\n",
       "      <td>7/1/2010</td>\n",
       "      <td>25.000000</td>\n",
       "      <td>25.92</td>\n",
       "      <td>20.270000</td>\n",
       "      <td>21.959999</td>\n",
       "      <td>8218800</td>\n",
       "      <td>21.959999</td>\n",
       "    </tr>\n",
       "    <tr>\n",
       "      <td>3</td>\n",
       "      <td>7/2/2010</td>\n",
       "      <td>23.000000</td>\n",
       "      <td>23.10</td>\n",
       "      <td>18.709999</td>\n",
       "      <td>19.200001</td>\n",
       "      <td>5139800</td>\n",
       "      <td>19.200001</td>\n",
       "    </tr>\n",
       "    <tr>\n",
       "      <td>4</td>\n",
       "      <td>7/6/2010</td>\n",
       "      <td>20.000000</td>\n",
       "      <td>20.00</td>\n",
       "      <td>15.830000</td>\n",
       "      <td>16.110001</td>\n",
       "      <td>6866900</td>\n",
       "      <td>16.110001</td>\n",
       "    </tr>\n",
       "  </tbody>\n",
       "</table>\n",
       "</div>"
      ],
      "text/plain": [
       "        Date       Open   High        Low      Close    Volume  Adj Close\n",
       "0  6/29/2010  19.000000  25.00  17.540001  23.889999  18766300  23.889999\n",
       "1  6/30/2010  25.790001  30.42  23.299999  23.830000  17187100  23.830000\n",
       "2   7/1/2010  25.000000  25.92  20.270000  21.959999   8218800  21.959999\n",
       "3   7/2/2010  23.000000  23.10  18.709999  19.200001   5139800  19.200001\n",
       "4   7/6/2010  20.000000  20.00  15.830000  16.110001   6866900  16.110001"
      ]
     },
     "execution_count": 4,
     "metadata": {},
     "output_type": "execute_result"
    }
   ],
   "source": [
    "df=pd.read_csv(\"Tesla.csv\") \n",
    "df.head()"
   ]
  },
  {
   "cell_type": "markdown",
   "metadata": {},
   "source": [
    "Next we read the dataset with Elon Musk's tweets. When completing this task, there is an error reading the csv file. We dubugged it using the encoding parameter available for this function."
   ]
  },
  {
   "cell_type": "code",
   "execution_count": 5,
   "metadata": {},
   "outputs": [
    {
     "data": {
      "text/html": [
       "<div>\n",
       "<style scoped>\n",
       "    .dataframe tbody tr th:only-of-type {\n",
       "        vertical-align: middle;\n",
       "    }\n",
       "\n",
       "    .dataframe tbody tr th {\n",
       "        vertical-align: top;\n",
       "    }\n",
       "\n",
       "    .dataframe thead th {\n",
       "        text-align: right;\n",
       "    }\n",
       "</style>\n",
       "<table border=\"1\" class=\"dataframe\">\n",
       "  <thead>\n",
       "    <tr style=\"text-align: right;\">\n",
       "      <th></th>\n",
       "      <th>row ID</th>\n",
       "      <th>Tweet</th>\n",
       "      <th>Time</th>\n",
       "      <th>Retweet from</th>\n",
       "      <th>User</th>\n",
       "    </tr>\n",
       "  </thead>\n",
       "  <tbody>\n",
       "    <tr>\n",
       "      <td>0</td>\n",
       "      <td>Row0</td>\n",
       "      <td>@MeltingIce Assuming max acceleration of 2 to ...</td>\n",
       "      <td>2017-09-29 17:39:19</td>\n",
       "      <td>NaN</td>\n",
       "      <td>elonmusk</td>\n",
       "    </tr>\n",
       "    <tr>\n",
       "      <td>1</td>\n",
       "      <td>Row1</td>\n",
       "      <td>RT @SpaceX: BFR is capable of transporting sat...</td>\n",
       "      <td>2017-09-29 10:44:54</td>\n",
       "      <td>SpaceX</td>\n",
       "      <td>elonmusk</td>\n",
       "    </tr>\n",
       "    <tr>\n",
       "      <td>2</td>\n",
       "      <td>Row2</td>\n",
       "      <td>@bigajm Yup :)</td>\n",
       "      <td>2017-09-29 10:39:57</td>\n",
       "      <td>NaN</td>\n",
       "      <td>elonmusk</td>\n",
       "    </tr>\n",
       "    <tr>\n",
       "      <td>3</td>\n",
       "      <td>Row3</td>\n",
       "      <td>Part 2 https://t.co/8Fvu57muhM</td>\n",
       "      <td>2017-09-29 09:56:12</td>\n",
       "      <td>NaN</td>\n",
       "      <td>elonmusk</td>\n",
       "    </tr>\n",
       "    <tr>\n",
       "      <td>4</td>\n",
       "      <td>Row4</td>\n",
       "      <td>Fly to most places on Earth in under 30 mins a...</td>\n",
       "      <td>2017-09-29 09:19:21</td>\n",
       "      <td>NaN</td>\n",
       "      <td>elonmusk</td>\n",
       "    </tr>\n",
       "  </tbody>\n",
       "</table>\n",
       "</div>"
      ],
      "text/plain": [
       "  row ID                                              Tweet  \\\n",
       "0   Row0  @MeltingIce Assuming max acceleration of 2 to ...   \n",
       "1   Row1  RT @SpaceX: BFR is capable of transporting sat...   \n",
       "2   Row2                                     @bigajm Yup :)   \n",
       "3   Row3                     Part 2 https://t.co/8Fvu57muhM   \n",
       "4   Row4  Fly to most places on Earth in under 30 mins a...   \n",
       "\n",
       "                  Time Retweet from      User  \n",
       "0  2017-09-29 17:39:19          NaN  elonmusk  \n",
       "1  2017-09-29 10:44:54       SpaceX  elonmusk  \n",
       "2  2017-09-29 10:39:57          NaN  elonmusk  \n",
       "3  2017-09-29 09:56:12          NaN  elonmusk  \n",
       "4  2017-09-29 09:19:21          NaN  elonmusk  "
      ]
     },
     "execution_count": 5,
     "metadata": {},
     "output_type": "execute_result"
    }
   ],
   "source": [
    "df2=pd.read_csv(\"data_elonmusk.csv\",encoding='unicode_escape')\n",
    "df2.head()"
   ]
  },
  {
   "cell_type": "markdown",
   "metadata": {},
   "source": [
    "## 3. Adjusting the date to be in the similiar format "
   ]
  },
  {
   "cell_type": "markdown",
   "metadata": {},
   "source": [
    "To align both dataframes, we change the order of the dates to something similiar among both dataframes. So we change df['Date'] to something similiar to df2['Date'] format. "
   ]
  },
  {
   "cell_type": "code",
   "execution_count": 6,
   "metadata": {},
   "outputs": [
    {
     "data": {
      "text/html": [
       "<div>\n",
       "<style scoped>\n",
       "    .dataframe tbody tr th:only-of-type {\n",
       "        vertical-align: middle;\n",
       "    }\n",
       "\n",
       "    .dataframe tbody tr th {\n",
       "        vertical-align: top;\n",
       "    }\n",
       "\n",
       "    .dataframe thead th {\n",
       "        text-align: right;\n",
       "    }\n",
       "</style>\n",
       "<table border=\"1\" class=\"dataframe\">\n",
       "  <thead>\n",
       "    <tr style=\"text-align: right;\">\n",
       "      <th></th>\n",
       "      <th>Date</th>\n",
       "      <th>Open</th>\n",
       "      <th>High</th>\n",
       "      <th>Low</th>\n",
       "      <th>Close</th>\n",
       "      <th>Volume</th>\n",
       "      <th>Adj Close</th>\n",
       "    </tr>\n",
       "  </thead>\n",
       "  <tbody>\n",
       "    <tr>\n",
       "      <td>0</td>\n",
       "      <td>2010-06-29</td>\n",
       "      <td>19.000000</td>\n",
       "      <td>25.00</td>\n",
       "      <td>17.540001</td>\n",
       "      <td>23.889999</td>\n",
       "      <td>18766300</td>\n",
       "      <td>23.889999</td>\n",
       "    </tr>\n",
       "    <tr>\n",
       "      <td>1</td>\n",
       "      <td>2010-06-30</td>\n",
       "      <td>25.790001</td>\n",
       "      <td>30.42</td>\n",
       "      <td>23.299999</td>\n",
       "      <td>23.830000</td>\n",
       "      <td>17187100</td>\n",
       "      <td>23.830000</td>\n",
       "    </tr>\n",
       "    <tr>\n",
       "      <td>2</td>\n",
       "      <td>2010-07-01</td>\n",
       "      <td>25.000000</td>\n",
       "      <td>25.92</td>\n",
       "      <td>20.270000</td>\n",
       "      <td>21.959999</td>\n",
       "      <td>8218800</td>\n",
       "      <td>21.959999</td>\n",
       "    </tr>\n",
       "    <tr>\n",
       "      <td>3</td>\n",
       "      <td>2010-07-02</td>\n",
       "      <td>23.000000</td>\n",
       "      <td>23.10</td>\n",
       "      <td>18.709999</td>\n",
       "      <td>19.200001</td>\n",
       "      <td>5139800</td>\n",
       "      <td>19.200001</td>\n",
       "    </tr>\n",
       "    <tr>\n",
       "      <td>4</td>\n",
       "      <td>2010-07-06</td>\n",
       "      <td>20.000000</td>\n",
       "      <td>20.00</td>\n",
       "      <td>15.830000</td>\n",
       "      <td>16.110001</td>\n",
       "      <td>6866900</td>\n",
       "      <td>16.110001</td>\n",
       "    </tr>\n",
       "  </tbody>\n",
       "</table>\n",
       "</div>"
      ],
      "text/plain": [
       "         Date       Open   High        Low      Close    Volume  Adj Close\n",
       "0  2010-06-29  19.000000  25.00  17.540001  23.889999  18766300  23.889999\n",
       "1  2010-06-30  25.790001  30.42  23.299999  23.830000  17187100  23.830000\n",
       "2  2010-07-01  25.000000  25.92  20.270000  21.959999   8218800  21.959999\n",
       "3  2010-07-02  23.000000  23.10  18.709999  19.200001   5139800  19.200001\n",
       "4  2010-07-06  20.000000  20.00  15.830000  16.110001   6866900  16.110001"
      ]
     },
     "execution_count": 6,
     "metadata": {},
     "output_type": "execute_result"
    }
   ],
   "source": [
    "df['Date']=pd.to_datetime(df.Date)\n",
    "df['Date'] = df['Date'].dt.strftime('%Y-%m-%d')\n",
    "df.head()"
   ]
  },
  {
   "cell_type": "markdown",
   "metadata": {},
   "source": [
    "As the dataset comes with the dates with a timing format, we want to have it by the date because the dataframe with the stock prices have the dates column without time. "
   ]
  },
  {
   "cell_type": "code",
   "execution_count": 7,
   "metadata": {},
   "outputs": [],
   "source": [
    "df2['Date'] = pd.to_datetime(df2['Time']).dt.normalize()"
   ]
  },
  {
   "cell_type": "markdown",
   "metadata": {},
   "source": [
    "We then drop the irrelevant rows to facilitate readibility.<br>\n",
    "Warning: Run the following code only once as the code will produce an error as it has already dropped the columns and it will not detect any columns to drop if the code is running, giving an error. If you run the code again, restart the kernel and re-run the whole notebook."
   ]
  },
  {
   "cell_type": "code",
   "execution_count": 8,
   "metadata": {},
   "outputs": [],
   "source": [
    "df2=df2.drop(columns='Time' )\n",
    "df2=df2.drop(columns='row ID' )"
   ]
  },
  {
   "cell_type": "code",
   "execution_count": 9,
   "metadata": {},
   "outputs": [
    {
     "data": {
      "text/html": [
       "<div>\n",
       "<style scoped>\n",
       "    .dataframe tbody tr th:only-of-type {\n",
       "        vertical-align: middle;\n",
       "    }\n",
       "\n",
       "    .dataframe tbody tr th {\n",
       "        vertical-align: top;\n",
       "    }\n",
       "\n",
       "    .dataframe thead th {\n",
       "        text-align: right;\n",
       "    }\n",
       "</style>\n",
       "<table border=\"1\" class=\"dataframe\">\n",
       "  <thead>\n",
       "    <tr style=\"text-align: right;\">\n",
       "      <th></th>\n",
       "      <th>Tweet</th>\n",
       "      <th>Retweet from</th>\n",
       "      <th>User</th>\n",
       "      <th>Date</th>\n",
       "    </tr>\n",
       "  </thead>\n",
       "  <tbody>\n",
       "    <tr>\n",
       "      <td>0</td>\n",
       "      <td>@MeltingIce Assuming max acceleration of 2 to ...</td>\n",
       "      <td>NaN</td>\n",
       "      <td>elonmusk</td>\n",
       "      <td>2017-09-29</td>\n",
       "    </tr>\n",
       "    <tr>\n",
       "      <td>1</td>\n",
       "      <td>RT @SpaceX: BFR is capable of transporting sat...</td>\n",
       "      <td>SpaceX</td>\n",
       "      <td>elonmusk</td>\n",
       "      <td>2017-09-29</td>\n",
       "    </tr>\n",
       "    <tr>\n",
       "      <td>2</td>\n",
       "      <td>@bigajm Yup :)</td>\n",
       "      <td>NaN</td>\n",
       "      <td>elonmusk</td>\n",
       "      <td>2017-09-29</td>\n",
       "    </tr>\n",
       "    <tr>\n",
       "      <td>3</td>\n",
       "      <td>Part 2 https://t.co/8Fvu57muhM</td>\n",
       "      <td>NaN</td>\n",
       "      <td>elonmusk</td>\n",
       "      <td>2017-09-29</td>\n",
       "    </tr>\n",
       "    <tr>\n",
       "      <td>4</td>\n",
       "      <td>Fly to most places on Earth in under 30 mins a...</td>\n",
       "      <td>NaN</td>\n",
       "      <td>elonmusk</td>\n",
       "      <td>2017-09-29</td>\n",
       "    </tr>\n",
       "  </tbody>\n",
       "</table>\n",
       "</div>"
      ],
      "text/plain": [
       "                                               Tweet Retweet from      User  \\\n",
       "0  @MeltingIce Assuming max acceleration of 2 to ...          NaN  elonmusk   \n",
       "1  RT @SpaceX: BFR is capable of transporting sat...       SpaceX  elonmusk   \n",
       "2                                     @bigajm Yup :)          NaN  elonmusk   \n",
       "3                     Part 2 https://t.co/8Fvu57muhM          NaN  elonmusk   \n",
       "4  Fly to most places on Earth in under 30 mins a...          NaN  elonmusk   \n",
       "\n",
       "        Date  \n",
       "0 2017-09-29  \n",
       "1 2017-09-29  \n",
       "2 2017-09-29  \n",
       "3 2017-09-29  \n",
       "4 2017-09-29  "
      ]
     },
     "execution_count": 9,
     "metadata": {},
     "output_type": "execute_result"
    }
   ],
   "source": [
    "df2.head()"
   ]
  },
  {
   "cell_type": "markdown",
   "metadata": {},
   "source": [
    "## 4. Data cleaning and sentiment analysis"
   ]
  },
  {
   "cell_type": "markdown",
   "metadata": {},
   "source": [
    "Now we try to remove stopwords, usernames and symbols to get the most accurate sentiment analysis of his tweets as possible .  "
   ]
  },
  {
   "cell_type": "markdown",
   "metadata": {},
   "source": [
    "We start by removing all the symbols. Twitter uses the '@' symbol to tag a particular user and a '#' to tag a following topic. These symbols are irrelevant to the analysis of the tweets. "
   ]
  },
  {
   "cell_type": "code",
   "execution_count": 10,
   "metadata": {
    "scrolled": true
   },
   "outputs": [
    {
     "data": {
      "text/html": [
       "<div>\n",
       "<style scoped>\n",
       "    .dataframe tbody tr th:only-of-type {\n",
       "        vertical-align: middle;\n",
       "    }\n",
       "\n",
       "    .dataframe tbody tr th {\n",
       "        vertical-align: top;\n",
       "    }\n",
       "\n",
       "    .dataframe thead th {\n",
       "        text-align: right;\n",
       "    }\n",
       "</style>\n",
       "<table border=\"1\" class=\"dataframe\">\n",
       "  <thead>\n",
       "    <tr style=\"text-align: right;\">\n",
       "      <th></th>\n",
       "      <th>Tweet</th>\n",
       "      <th>Retweet from</th>\n",
       "      <th>User</th>\n",
       "      <th>Date</th>\n",
       "    </tr>\n",
       "  </thead>\n",
       "  <tbody>\n",
       "    <tr>\n",
       "      <td>0</td>\n",
       "      <td>MeltingIce Assuming max acceleration of 2 to ...</td>\n",
       "      <td>NaN</td>\n",
       "      <td>elonmusk</td>\n",
       "      <td>2017-09-29</td>\n",
       "    </tr>\n",
       "    <tr>\n",
       "      <td>1</td>\n",
       "      <td>RT  SpaceX  BFR is capable of transporting sat...</td>\n",
       "      <td>SpaceX</td>\n",
       "      <td>elonmusk</td>\n",
       "      <td>2017-09-29</td>\n",
       "    </tr>\n",
       "    <tr>\n",
       "      <td>2</td>\n",
       "      <td>bigajm Yup</td>\n",
       "      <td>NaN</td>\n",
       "      <td>elonmusk</td>\n",
       "      <td>2017-09-29</td>\n",
       "    </tr>\n",
       "    <tr>\n",
       "      <td>3</td>\n",
       "      <td>Part 2 https   t co 8Fvu57muhM</td>\n",
       "      <td>NaN</td>\n",
       "      <td>elonmusk</td>\n",
       "      <td>2017-09-29</td>\n",
       "    </tr>\n",
       "    <tr>\n",
       "      <td>4</td>\n",
       "      <td>Fly to most places on Earth in under 30 mins a...</td>\n",
       "      <td>NaN</td>\n",
       "      <td>elonmusk</td>\n",
       "      <td>2017-09-29</td>\n",
       "    </tr>\n",
       "  </tbody>\n",
       "</table>\n",
       "</div>"
      ],
      "text/plain": [
       "                                               Tweet Retweet from      User  \\\n",
       "0   MeltingIce Assuming max acceleration of 2 to ...          NaN  elonmusk   \n",
       "1  RT  SpaceX  BFR is capable of transporting sat...       SpaceX  elonmusk   \n",
       "2                                      bigajm Yup             NaN  elonmusk   \n",
       "3                     Part 2 https   t co 8Fvu57muhM          NaN  elonmusk   \n",
       "4  Fly to most places on Earth in under 30 mins a...          NaN  elonmusk   \n",
       "\n",
       "        Date  \n",
       "0 2017-09-29  \n",
       "1 2017-09-29  \n",
       "2 2017-09-29  \n",
       "3 2017-09-29  \n",
       "4 2017-09-29  "
      ]
     },
     "execution_count": 10,
     "metadata": {},
     "output_type": "execute_result"
    }
   ],
   "source": [
    "df2['Tweet'] = df2['Tweet'].str.replace('\\W', ' ')\n",
    "df2.head()"
   ]
  },
  {
   "cell_type": "markdown",
   "metadata": {},
   "source": [
    "We then proceed to remove stopwords in the tweets as they do not show any sentiment of the tweet. "
   ]
  },
  {
   "cell_type": "code",
   "execution_count": 28,
   "metadata": {},
   "outputs": [
    {
     "data": {
      "text/plain": [
       "dtype('O')"
      ]
     },
     "execution_count": 28,
     "metadata": {},
     "output_type": "execute_result"
    }
   ],
   "source": [
    "df2[\"Tweet\"].dtype"
   ]
  },
  {
   "cell_type": "code",
   "execution_count": 11,
   "metadata": {},
   "outputs": [
    {
     "data": {
      "text/html": [
       "<div>\n",
       "<style scoped>\n",
       "    .dataframe tbody tr th:only-of-type {\n",
       "        vertical-align: middle;\n",
       "    }\n",
       "\n",
       "    .dataframe tbody tr th {\n",
       "        vertical-align: top;\n",
       "    }\n",
       "\n",
       "    .dataframe thead th {\n",
       "        text-align: right;\n",
       "    }\n",
       "</style>\n",
       "<table border=\"1\" class=\"dataframe\">\n",
       "  <thead>\n",
       "    <tr style=\"text-align: right;\">\n",
       "      <th></th>\n",
       "      <th>Tweet</th>\n",
       "      <th>Retweet from</th>\n",
       "      <th>User</th>\n",
       "      <th>Date</th>\n",
       "    </tr>\n",
       "  </thead>\n",
       "  <tbody>\n",
       "    <tr>\n",
       "      <td>0</td>\n",
       "      <td>meltingice assuming max acceleration 2 3 g com...</td>\n",
       "      <td>NaN</td>\n",
       "      <td>elonmusk</td>\n",
       "      <td>2017-09-29</td>\n",
       "    </tr>\n",
       "    <tr>\n",
       "      <td>1</td>\n",
       "      <td>rt spacex bfr capable transporting satellites ...</td>\n",
       "      <td>SpaceX</td>\n",
       "      <td>elonmusk</td>\n",
       "      <td>2017-09-29</td>\n",
       "    </tr>\n",
       "    <tr>\n",
       "      <td>2</td>\n",
       "      <td>bigajm yup</td>\n",
       "      <td>NaN</td>\n",
       "      <td>elonmusk</td>\n",
       "      <td>2017-09-29</td>\n",
       "    </tr>\n",
       "    <tr>\n",
       "      <td>3</td>\n",
       "      <td>part 2 https co 8fvu57muhm</td>\n",
       "      <td>NaN</td>\n",
       "      <td>elonmusk</td>\n",
       "      <td>2017-09-29</td>\n",
       "    </tr>\n",
       "    <tr>\n",
       "      <td>4</td>\n",
       "      <td>fly places earth 30 mins anywhere 60 cost per ...</td>\n",
       "      <td>NaN</td>\n",
       "      <td>elonmusk</td>\n",
       "      <td>2017-09-29</td>\n",
       "    </tr>\n",
       "  </tbody>\n",
       "</table>\n",
       "</div>"
      ],
      "text/plain": [
       "                                               Tweet Retweet from      User  \\\n",
       "0  meltingice assuming max acceleration 2 3 g com...          NaN  elonmusk   \n",
       "1  rt spacex bfr capable transporting satellites ...       SpaceX  elonmusk   \n",
       "2                                         bigajm yup          NaN  elonmusk   \n",
       "3                         part 2 https co 8fvu57muhm          NaN  elonmusk   \n",
       "4  fly places earth 30 mins anywhere 60 cost per ...          NaN  elonmusk   \n",
       "\n",
       "        Date  \n",
       "0 2017-09-29  \n",
       "1 2017-09-29  \n",
       "2 2017-09-29  \n",
       "3 2017-09-29  \n",
       "4 2017-09-29  "
      ]
     },
     "execution_count": 11,
     "metadata": {},
     "output_type": "execute_result"
    }
   ],
   "source": [
    "stop = stopwords.words('english')\n",
    "df2['Tweet']=df2['Tweet'].str.lower()\n",
    "df2['Tweet']=df2['Tweet'].apply(lambda x: ' '.join([word for word in x.split() if word not in (stop)]))\n",
    "df2.head()"
   ]
  },
  {
   "cell_type": "markdown",
   "metadata": {},
   "source": [
    "We then proceed to removing words that are not english. The purpose of this step is to remove twitter names which sometimes can affect the accuracy of the sentiment analysis as the names can be misleading. For example, the user could have a negative tweet but with a twitter name like @joyfulhappy, it can affect the sentiment analysis. (Might take some time to load as there are many words in the tweets to compare with every word in the english language)"
   ]
  },
  {
   "cell_type": "code",
   "execution_count": 12,
   "metadata": {},
   "outputs": [
    {
     "data": {
      "text/html": [
       "<div>\n",
       "<style scoped>\n",
       "    .dataframe tbody tr th:only-of-type {\n",
       "        vertical-align: middle;\n",
       "    }\n",
       "\n",
       "    .dataframe tbody tr th {\n",
       "        vertical-align: top;\n",
       "    }\n",
       "\n",
       "    .dataframe thead th {\n",
       "        text-align: right;\n",
       "    }\n",
       "</style>\n",
       "<table border=\"1\" class=\"dataframe\">\n",
       "  <thead>\n",
       "    <tr style=\"text-align: right;\">\n",
       "      <th></th>\n",
       "      <th>Tweet</th>\n",
       "      <th>Retweet from</th>\n",
       "      <th>User</th>\n",
       "      <th>Date</th>\n",
       "    </tr>\n",
       "  </thead>\n",
       "  <tbody>\n",
       "    <tr>\n",
       "      <td>0</td>\n",
       "      <td>assuming acceleration g comfortable direction ...</td>\n",
       "      <td>NaN</td>\n",
       "      <td>elonmusk</td>\n",
       "      <td>2017-09-29</td>\n",
       "    </tr>\n",
       "    <tr>\n",
       "      <td>1</td>\n",
       "      <td>capable transporting orbit crew cargo moon</td>\n",
       "      <td>SpaceX</td>\n",
       "      <td>elonmusk</td>\n",
       "      <td>2017-09-29</td>\n",
       "    </tr>\n",
       "    <tr>\n",
       "      <td>2</td>\n",
       "      <td></td>\n",
       "      <td>NaN</td>\n",
       "      <td>elonmusk</td>\n",
       "      <td>2017-09-29</td>\n",
       "    </tr>\n",
       "    <tr>\n",
       "      <td>3</td>\n",
       "      <td>part</td>\n",
       "      <td>NaN</td>\n",
       "      <td>elonmusk</td>\n",
       "      <td>2017-09-29</td>\n",
       "    </tr>\n",
       "    <tr>\n",
       "      <td>4</td>\n",
       "      <td>fly earth anywhere cost per seat</td>\n",
       "      <td>NaN</td>\n",
       "      <td>elonmusk</td>\n",
       "      <td>2017-09-29</td>\n",
       "    </tr>\n",
       "  </tbody>\n",
       "</table>\n",
       "</div>"
      ],
      "text/plain": [
       "                                               Tweet Retweet from      User  \\\n",
       "0  assuming acceleration g comfortable direction ...          NaN  elonmusk   \n",
       "1         capable transporting orbit crew cargo moon       SpaceX  elonmusk   \n",
       "2                                                             NaN  elonmusk   \n",
       "3                                               part          NaN  elonmusk   \n",
       "4                   fly earth anywhere cost per seat          NaN  elonmusk   \n",
       "\n",
       "        Date  \n",
       "0 2017-09-29  \n",
       "1 2017-09-29  \n",
       "2 2017-09-29  \n",
       "3 2017-09-29  \n",
       "4 2017-09-29  "
      ]
     },
     "execution_count": 12,
     "metadata": {},
     "output_type": "execute_result"
    }
   ],
   "source": [
    "english_words = words.words()\n",
    "df2['Tweet']=df2['Tweet'].apply(lambda x: ' '.join([word for word in x.split() if word  in (english_words)]))\n",
    "df2.head()"
   ]
  },
  {
   "cell_type": "markdown",
   "metadata": {},
   "source": [
    "Finally we approach the sentiment analysis to get our score. We are only interested in the compound score as we require \n",
    "a value to be plotted that states the overall sentiment of a tweet. "
   ]
  },
  {
   "cell_type": "code",
   "execution_count": 13,
   "metadata": {},
   "outputs": [
    {
     "data": {
      "text/html": [
       "<div>\n",
       "<style scoped>\n",
       "    .dataframe tbody tr th:only-of-type {\n",
       "        vertical-align: middle;\n",
       "    }\n",
       "\n",
       "    .dataframe tbody tr th {\n",
       "        vertical-align: top;\n",
       "    }\n",
       "\n",
       "    .dataframe thead th {\n",
       "        text-align: right;\n",
       "    }\n",
       "</style>\n",
       "<table border=\"1\" class=\"dataframe\">\n",
       "  <thead>\n",
       "    <tr style=\"text-align: right;\">\n",
       "      <th></th>\n",
       "      <th>Tweet</th>\n",
       "      <th>Retweet from</th>\n",
       "      <th>User</th>\n",
       "      <th>Date</th>\n",
       "      <th>Tweet Sentiment score</th>\n",
       "    </tr>\n",
       "  </thead>\n",
       "  <tbody>\n",
       "    <tr>\n",
       "      <td>0</td>\n",
       "      <td>assuming acceleration g comfortable direction ...</td>\n",
       "      <td>NaN</td>\n",
       "      <td>elonmusk</td>\n",
       "      <td>2017-09-29</td>\n",
       "      <td>0.7003</td>\n",
       "    </tr>\n",
       "    <tr>\n",
       "      <td>1</td>\n",
       "      <td>capable transporting orbit crew cargo moon</td>\n",
       "      <td>SpaceX</td>\n",
       "      <td>elonmusk</td>\n",
       "      <td>2017-09-29</td>\n",
       "      <td>0.3818</td>\n",
       "    </tr>\n",
       "    <tr>\n",
       "      <td>2</td>\n",
       "      <td></td>\n",
       "      <td>NaN</td>\n",
       "      <td>elonmusk</td>\n",
       "      <td>2017-09-29</td>\n",
       "      <td>0.0000</td>\n",
       "    </tr>\n",
       "    <tr>\n",
       "      <td>3</td>\n",
       "      <td>part</td>\n",
       "      <td>NaN</td>\n",
       "      <td>elonmusk</td>\n",
       "      <td>2017-09-29</td>\n",
       "      <td>0.0000</td>\n",
       "    </tr>\n",
       "    <tr>\n",
       "      <td>4</td>\n",
       "      <td>fly earth anywhere cost per seat</td>\n",
       "      <td>NaN</td>\n",
       "      <td>elonmusk</td>\n",
       "      <td>2017-09-29</td>\n",
       "      <td>0.0000</td>\n",
       "    </tr>\n",
       "    <tr>\n",
       "      <td>5</td>\n",
       "      <td>supporting creation permanent self sustaining ...</td>\n",
       "      <td>SpaceX</td>\n",
       "      <td>elonmusk</td>\n",
       "      <td>2017-09-29</td>\n",
       "      <td>0.6124</td>\n",
       "    </tr>\n",
       "    <tr>\n",
       "      <td>6</td>\n",
       "      <td>take anywhere earth less</td>\n",
       "      <td>NaN</td>\n",
       "      <td>elonmusk</td>\n",
       "      <td>2017-09-29</td>\n",
       "      <td>0.0000</td>\n",
       "    </tr>\n",
       "    <tr>\n",
       "      <td>7</td>\n",
       "      <td>city opposite earth dawn dusk sky blue day sky...</td>\n",
       "      <td>NaN</td>\n",
       "      <td>elonmusk</td>\n",
       "      <td>2017-09-29</td>\n",
       "      <td>0.0000</td>\n",
       "    </tr>\n",
       "    <tr>\n",
       "      <td>8</td>\n",
       "      <td>moon base alpha</td>\n",
       "      <td>NaN</td>\n",
       "      <td>elonmusk</td>\n",
       "      <td>2017-09-29</td>\n",
       "      <td>0.0000</td>\n",
       "    </tr>\n",
       "    <tr>\n",
       "      <td>9</td>\n",
       "      <td>something really special today talk</td>\n",
       "      <td>NaN</td>\n",
       "      <td>elonmusk</td>\n",
       "      <td>2017-09-29</td>\n",
       "      <td>0.4576</td>\n",
       "    </tr>\n",
       "    <tr>\n",
       "      <td>10</td>\n",
       "      <td>nine ago today falcon first privately liquid f...</td>\n",
       "      <td>SpaceX</td>\n",
       "      <td>elonmusk</td>\n",
       "      <td>2017-09-29</td>\n",
       "      <td>0.0000</td>\n",
       "    </tr>\n",
       "    <tr>\n",
       "      <td>11</td>\n",
       "      <td>another day office</td>\n",
       "      <td>NaN</td>\n",
       "      <td>elonmusk</td>\n",
       "      <td>2017-09-28</td>\n",
       "      <td>0.0000</td>\n",
       "    </tr>\n",
       "    <tr>\n",
       "      <td>12</td>\n",
       "      <td>love</td>\n",
       "      <td>NaN</td>\n",
       "      <td>elonmusk</td>\n",
       "      <td>2017-09-28</td>\n",
       "      <td>0.6369</td>\n",
       "    </tr>\n",
       "    <tr>\n",
       "      <td>13</td>\n",
       "      <td>excited say officially beauty</td>\n",
       "      <td>mayemusk</td>\n",
       "      <td>elonmusk</td>\n",
       "      <td>2017-09-28</td>\n",
       "      <td>0.7351</td>\n",
       "    </tr>\n",
       "    <tr>\n",
       "      <td>14</td>\n",
       "      <td>paying dev cost underpants turned um less lucr...</td>\n",
       "      <td>NaN</td>\n",
       "      <td>elonmusk</td>\n",
       "      <td>2017-09-27</td>\n",
       "      <td>0.0000</td>\n",
       "    </tr>\n",
       "    <tr>\n",
       "      <td>15</td>\n",
       "      <td>headed soon describe new planetary colonizer d...</td>\n",
       "      <td>NaN</td>\n",
       "      <td>elonmusk</td>\n",
       "      <td>2017-09-27</td>\n",
       "      <td>0.2263</td>\n",
       "    </tr>\n",
       "    <tr>\n",
       "      <td>16</td>\n",
       "      <td>yes</td>\n",
       "      <td>NaN</td>\n",
       "      <td>elonmusk</td>\n",
       "      <td>2017-09-26</td>\n",
       "      <td>0.4019</td>\n",
       "    </tr>\n",
       "    <tr>\n",
       "      <td>17</td>\n",
       "      <td>good article several ago value fiction</td>\n",
       "      <td>NaN</td>\n",
       "      <td>elonmusk</td>\n",
       "      <td>2017-09-26</td>\n",
       "      <td>0.6486</td>\n",
       "    </tr>\n",
       "    <tr>\n",
       "      <td>18</td>\n",
       "      <td>yes</td>\n",
       "      <td>NaN</td>\n",
       "      <td>elonmusk</td>\n",
       "      <td>2017-09-26</td>\n",
       "      <td>0.4019</td>\n",
       "    </tr>\n",
       "    <tr>\n",
       "      <td>19</td>\n",
       "      <td>simulation interplanetary spaceship rocket des...</td>\n",
       "      <td>NaN</td>\n",
       "      <td>elonmusk</td>\n",
       "      <td>2017-09-26</td>\n",
       "      <td>0.0000</td>\n",
       "    </tr>\n",
       "  </tbody>\n",
       "</table>\n",
       "</div>"
      ],
      "text/plain": [
       "                                                Tweet Retweet from      User  \\\n",
       "0   assuming acceleration g comfortable direction ...          NaN  elonmusk   \n",
       "1          capable transporting orbit crew cargo moon       SpaceX  elonmusk   \n",
       "2                                                              NaN  elonmusk   \n",
       "3                                                part          NaN  elonmusk   \n",
       "4                    fly earth anywhere cost per seat          NaN  elonmusk   \n",
       "5   supporting creation permanent self sustaining ...       SpaceX  elonmusk   \n",
       "6                            take anywhere earth less          NaN  elonmusk   \n",
       "7   city opposite earth dawn dusk sky blue day sky...          NaN  elonmusk   \n",
       "8                                     moon base alpha          NaN  elonmusk   \n",
       "9                 something really special today talk          NaN  elonmusk   \n",
       "10  nine ago today falcon first privately liquid f...       SpaceX  elonmusk   \n",
       "11                                 another day office          NaN  elonmusk   \n",
       "12                                               love          NaN  elonmusk   \n",
       "13                      excited say officially beauty     mayemusk  elonmusk   \n",
       "14  paying dev cost underpants turned um less lucr...          NaN  elonmusk   \n",
       "15  headed soon describe new planetary colonizer d...          NaN  elonmusk   \n",
       "16                                                yes          NaN  elonmusk   \n",
       "17             good article several ago value fiction          NaN  elonmusk   \n",
       "18                                                yes          NaN  elonmusk   \n",
       "19  simulation interplanetary spaceship rocket des...          NaN  elonmusk   \n",
       "\n",
       "         Date  Tweet Sentiment score  \n",
       "0  2017-09-29                 0.7003  \n",
       "1  2017-09-29                 0.3818  \n",
       "2  2017-09-29                 0.0000  \n",
       "3  2017-09-29                 0.0000  \n",
       "4  2017-09-29                 0.0000  \n",
       "5  2017-09-29                 0.6124  \n",
       "6  2017-09-29                 0.0000  \n",
       "7  2017-09-29                 0.0000  \n",
       "8  2017-09-29                 0.0000  \n",
       "9  2017-09-29                 0.4576  \n",
       "10 2017-09-29                 0.0000  \n",
       "11 2017-09-28                 0.0000  \n",
       "12 2017-09-28                 0.6369  \n",
       "13 2017-09-28                 0.7351  \n",
       "14 2017-09-27                 0.0000  \n",
       "15 2017-09-27                 0.2263  \n",
       "16 2017-09-26                 0.4019  \n",
       "17 2017-09-26                 0.6486  \n",
       "18 2017-09-26                 0.4019  \n",
       "19 2017-09-26                 0.0000  "
      ]
     },
     "execution_count": 13,
     "metadata": {},
     "output_type": "execute_result"
    }
   ],
   "source": [
    "sid= SentimentIntensityAnalyzer()\n",
    "df2['Tweet Sentiment score']= df2['Tweet'].apply(sid.polarity_scores)\n",
    "df2['Tweet Sentiment score'] = [d.get('compound') for d in df2['Tweet Sentiment score']]\n",
    "df2.head(20)"
   ]
  },
  {
   "cell_type": "markdown",
   "metadata": {},
   "source": [
    "## 5. Wordcloud"
   ]
  },
  {
   "cell_type": "markdown",
   "metadata": {},
   "source": [
    "We are curious of what are the most common topics that Elon tweets about. So we created a wordcloud to find out. "
   ]
  },
  {
   "cell_type": "code",
   "execution_count": 14,
   "metadata": {
    "scrolled": false
   },
   "outputs": [
    {
     "data": {
      "image/png": "[encoded data removed]",
      "text/plain": [
       "<Figure size 1080x576 with 1 Axes>"
      ]
     },
     "metadata": {
      "needs_background": "light"
     },
     "output_type": "display_data"
    }
   ],
   "source": [
    "wordcloud=df2.copy()\n",
    "wordcloudtweet=wordcloud['Tweet']\n",
    "wordcloudtweet=wordcloudtweet.tolist()\n",
    "wordcloudlist=[]\n",
    "for items in wordcloudtweet:\n",
    "    wordcloudlist.append(items)\n",
    "\n",
    "long_str_descriptions = ''\n",
    "for tweets in wordcloudlist:\n",
    "    long_str_descriptions+=tweets\n",
    "long_str_descriptions\n",
    "\n",
    "plt.figure(figsize=(15,8))\n",
    "desc_wordcloud = WordCloud(\n",
    "    width=400, height=200,\n",
    "    background_color=\"black\", \n",
    "    max_words=300, relative_scaling = 1.0).generate(long_str_descriptions)\n",
    "plt.imshow(desc_wordcloud)\n",
    "plt.axis(\"off\")\n",
    "plt.title(\"Wordcloud of descriptions for Elon's tweets\", fontsize=20)\n",
    "plt.show()"
   ]
  },
  {
   "cell_type": "markdown",
   "metadata": {},
   "source": [
    "Based on the result, we can see that the main topics that he frequently talks about are mainly in the field of engineering. He is known for being the CEO of Tesla and Spacex. Through our analysis, he is probably tweeting mainly about spacex and tesla's activities and updates."
   ]
  },
  {
   "cell_type": "markdown",
   "metadata": {},
   "source": [
    "## 6. Data visualisation"
   ]
  },
  {
   "cell_type": "code",
   "execution_count": 15,
   "metadata": {
    "scrolled": true
   },
   "outputs": [
    {
     "data": {
      "image/png": "[encoded data removed]",
      "text/plain": [
       "<Figure size 1152x504 with 2 Axes>"
      ]
     },
     "metadata": {
      "needs_background": "light"
     },
     "output_type": "display_data"
    }
   ],
   "source": [
    "fig = plt.figure(figsize=(16, 7))\n",
    "ax1 = fig.add_subplot(2,2,1)\n",
    "ax2 = fig.add_subplot(2,2,2)\n",
    "\n",
    "\n",
    "\n",
    "df.plot(kind='line',x='Date', y='Adj Close', title='Stock Price against time', \n",
    "        ax=ax1, color=\"tomato\")\n",
    "ax1.set_ylabel('Stock price of Tesla')\n",
    "\n",
    "df2.plot(kind='hist', bins = 15, x='Date', y='Tweet Sentiment score', title=' Frequency of tweets of each range of scores',\n",
    "         ax=ax2,color='steelblue')\n",
    "ax2.set_xlabel('Sentiment compound score of tweets')\n",
    "\n",
    "plt.show()\n",
    "\n"
   ]
  },
  {
   "cell_type": "markdown",
   "metadata": {},
   "source": [
    "## 7. Analysis"
   ]
  },
  {
   "cell_type": "markdown",
   "metadata": {},
   "source": [
    "We focus on the price change of the stock to accurately find the relationship between the tweet sentiment score and the change in stock price."
   ]
  },
  {
   "cell_type": "code",
   "execution_count": 16,
   "metadata": {},
   "outputs": [
    {
     "data": {
      "text/html": [
       "<div>\n",
       "<style scoped>\n",
       "    .dataframe tbody tr th:only-of-type {\n",
       "        vertical-align: middle;\n",
       "    }\n",
       "\n",
       "    .dataframe tbody tr th {\n",
       "        vertical-align: top;\n",
       "    }\n",
       "\n",
       "    .dataframe thead th {\n",
       "        text-align: right;\n",
       "    }\n",
       "</style>\n",
       "<table border=\"1\" class=\"dataframe\">\n",
       "  <thead>\n",
       "    <tr style=\"text-align: right;\">\n",
       "      <th></th>\n",
       "      <th>Tweet Sentiment score</th>\n",
       "      <th>Adj Close</th>\n",
       "      <th>Difference</th>\n",
       "    </tr>\n",
       "    <tr>\n",
       "      <th>Date</th>\n",
       "      <th></th>\n",
       "      <th></th>\n",
       "      <th></th>\n",
       "    </tr>\n",
       "  </thead>\n",
       "  <tbody>\n",
       "    <tr>\n",
       "      <td>2012-11-16</td>\n",
       "      <td>0.3612</td>\n",
       "      <td>31.840000</td>\n",
       "      <td>1.020000</td>\n",
       "    </tr>\n",
       "    <tr>\n",
       "      <td>2012-11-19</td>\n",
       "      <td>0.6697</td>\n",
       "      <td>32.919998</td>\n",
       "      <td>1.079998</td>\n",
       "    </tr>\n",
       "    <tr>\n",
       "      <td>2012-11-20</td>\n",
       "      <td>0.3042</td>\n",
       "      <td>33.000000</td>\n",
       "      <td>0.080002</td>\n",
       "    </tr>\n",
       "    <tr>\n",
       "      <td>2012-11-21</td>\n",
       "      <td>0.7717</td>\n",
       "      <td>32.470001</td>\n",
       "      <td>-0.529999</td>\n",
       "    </tr>\n",
       "    <tr>\n",
       "      <td>2012-11-23</td>\n",
       "      <td>0.7783</td>\n",
       "      <td>32.130001</td>\n",
       "      <td>-0.340000</td>\n",
       "    </tr>\n",
       "  </tbody>\n",
       "</table>\n",
       "</div>"
      ],
      "text/plain": [
       "            Tweet Sentiment score  Adj Close  Difference\n",
       "Date                                                    \n",
       "2012-11-16                 0.3612  31.840000    1.020000\n",
       "2012-11-19                 0.6697  32.919998    1.079998\n",
       "2012-11-20                 0.3042  33.000000    0.080002\n",
       "2012-11-21                 0.7717  32.470001   -0.529999\n",
       "2012-11-23                 0.7783  32.130001   -0.340000"
      ]
     },
     "execution_count": 16,
     "metadata": {},
     "output_type": "execute_result"
    }
   ],
   "source": [
    "#a copy of df, now with new column\n",
    "df_change=df.copy()\n",
    "df_change['Difference']=df_change['Adj Close'].diff()\n",
    "\n",
    "#formed a new df from the intersect of stock data and sentiment if they have common dates\n",
    "df3=df2.groupby(['Date']).sum().reset_index()\n",
    "df3=df3.set_index('Date').join(df_change.set_index('Date'), how='inner')\n",
    "df3=df3.drop(columns=['Open', 'High', 'Low', 'Volume', 'Close'])\n",
    "\n",
    "df3.head()"
   ]
  },
  {
   "cell_type": "markdown",
   "metadata": {},
   "source": [
    "Scatter plot of stock difference and sentiment score"
   ]
  },
  {
   "cell_type": "code",
   "execution_count": 17,
   "metadata": {},
   "outputs": [
    {
     "data": {
      "image/png": "[encoded data removed]",
      "text/plain": [
       "<Figure size 504x504 with 1 Axes>"
      ]
     },
     "metadata": {
      "needs_background": "light"
     },
     "output_type": "display_data"
    }
   ],
   "source": [
    "df3.plot(kind='scatter', \n",
    "                    x='Tweet Sentiment score', y='Difference',\n",
    "                    figsize=(7, 7),\n",
    "                    title='Plot of difference against sentiment score')\n",
    "plt.show()"
   ]
  },
  {
   "cell_type": "markdown",
   "metadata": {},
   "source": [
    "We compare the correlation between the the difference in the stock price with the tweet sentiment score and it shows a positive correlation of 0.122. This indicates that his tweets affects the price but in a relatively small amount. "
   ]
  },
  {
   "cell_type": "code",
   "execution_count": 18,
   "metadata": {},
   "outputs": [
    {
     "data": {
      "text/html": [
       "<div>\n",
       "<style scoped>\n",
       "    .dataframe tbody tr th:only-of-type {\n",
       "        vertical-align: middle;\n",
       "    }\n",
       "\n",
       "    .dataframe tbody tr th {\n",
       "        vertical-align: top;\n",
       "    }\n",
       "\n",
       "    .dataframe thead th {\n",
       "        text-align: right;\n",
       "    }\n",
       "</style>\n",
       "<table border=\"1\" class=\"dataframe\">\n",
       "  <thead>\n",
       "    <tr style=\"text-align: right;\">\n",
       "      <th></th>\n",
       "      <th>Tweet Sentiment score</th>\n",
       "      <th>Adj Close</th>\n",
       "      <th>Difference</th>\n",
       "    </tr>\n",
       "  </thead>\n",
       "  <tbody>\n",
       "    <tr>\n",
       "      <td>Tweet Sentiment score</td>\n",
       "      <td>1.000000</td>\n",
       "      <td>-0.058789</td>\n",
       "      <td>0.122052</td>\n",
       "    </tr>\n",
       "    <tr>\n",
       "      <td>Adj Close</td>\n",
       "      <td>-0.058789</td>\n",
       "      <td>1.000000</td>\n",
       "      <td>0.020291</td>\n",
       "    </tr>\n",
       "    <tr>\n",
       "      <td>Difference</td>\n",
       "      <td>0.122052</td>\n",
       "      <td>0.020291</td>\n",
       "      <td>1.000000</td>\n",
       "    </tr>\n",
       "  </tbody>\n",
       "</table>\n",
       "</div>"
      ],
      "text/plain": [
       "                       Tweet Sentiment score  Adj Close  Difference\n",
       "Tweet Sentiment score               1.000000  -0.058789    0.122052\n",
       "Adj Close                          -0.058789   1.000000    0.020291\n",
       "Difference                          0.122052   0.020291    1.000000"
      ]
     },
     "execution_count": 18,
     "metadata": {},
     "output_type": "execute_result"
    }
   ],
   "source": [
    "df3.corr()"
   ]
  },
  {
   "cell_type": "markdown",
   "metadata": {},
   "source": [
    "Describing df3 will then show the overall statistics of his tweets and the difference in the stock price per day. "
   ]
  },
  {
   "cell_type": "code",
   "execution_count": 19,
   "metadata": {},
   "outputs": [
    {
     "data": {
      "text/html": [
       "<div>\n",
       "<style scoped>\n",
       "    .dataframe tbody tr th:only-of-type {\n",
       "        vertical-align: middle;\n",
       "    }\n",
       "\n",
       "    .dataframe tbody tr th {\n",
       "        vertical-align: top;\n",
       "    }\n",
       "\n",
       "    .dataframe thead th {\n",
       "        text-align: right;\n",
       "    }\n",
       "</style>\n",
       "<table border=\"1\" class=\"dataframe\">\n",
       "  <thead>\n",
       "    <tr style=\"text-align: right;\">\n",
       "      <th></th>\n",
       "      <th>Tweet Sentiment score</th>\n",
       "      <th>Adj Close</th>\n",
       "      <th>Difference</th>\n",
       "    </tr>\n",
       "  </thead>\n",
       "  <tbody>\n",
       "    <tr>\n",
       "      <td>count</td>\n",
       "      <td>527.000000</td>\n",
       "      <td>527.000000</td>\n",
       "      <td>527.000000</td>\n",
       "    </tr>\n",
       "    <tr>\n",
       "      <td>mean</td>\n",
       "      <td>0.523023</td>\n",
       "      <td>187.801556</td>\n",
       "      <td>0.488539</td>\n",
       "    </tr>\n",
       "    <tr>\n",
       "      <td>std</td>\n",
       "      <td>0.789038</td>\n",
       "      <td>68.118310</td>\n",
       "      <td>5.309495</td>\n",
       "    </tr>\n",
       "    <tr>\n",
       "      <td>min</td>\n",
       "      <td>-1.171200</td>\n",
       "      <td>31.840000</td>\n",
       "      <td>-24.000000</td>\n",
       "    </tr>\n",
       "    <tr>\n",
       "      <td>25%</td>\n",
       "      <td>0.000000</td>\n",
       "      <td>166.870002</td>\n",
       "      <td>-1.979996</td>\n",
       "    </tr>\n",
       "    <tr>\n",
       "      <td>50%</td>\n",
       "      <td>0.401900</td>\n",
       "      <td>207.889999</td>\n",
       "      <td>0.240001</td>\n",
       "    </tr>\n",
       "    <tr>\n",
       "      <td>75%</td>\n",
       "      <td>0.812350</td>\n",
       "      <td>231.720001</td>\n",
       "      <td>2.704995</td>\n",
       "    </tr>\n",
       "    <tr>\n",
       "      <td>max</td>\n",
       "      <td>6.114600</td>\n",
       "      <td>284.119995</td>\n",
       "      <td>30.350006</td>\n",
       "    </tr>\n",
       "  </tbody>\n",
       "</table>\n",
       "</div>"
      ],
      "text/plain": [
       "       Tweet Sentiment score   Adj Close  Difference\n",
       "count             527.000000  527.000000  527.000000\n",
       "mean                0.523023  187.801556    0.488539\n",
       "std                 0.789038   68.118310    5.309495\n",
       "min                -1.171200   31.840000  -24.000000\n",
       "25%                 0.000000  166.870002   -1.979996\n",
       "50%                 0.401900  207.889999    0.240001\n",
       "75%                 0.812350  231.720001    2.704995\n",
       "max                 6.114600  284.119995   30.350006"
      ]
     },
     "execution_count": 19,
     "metadata": {},
     "output_type": "execute_result"
    }
   ],
   "source": [
    "df3.describe()"
   ]
  },
  {
   "cell_type": "markdown",
   "metadata": {},
   "source": [
    "Looking into the amount of outliers for the stock price changes. "
   ]
  },
  {
   "cell_type": "code",
   "execution_count": 20,
   "metadata": {},
   "outputs": [
    {
     "name": "stdout",
     "output_type": "stream",
     "text": [
      "39\n"
     ]
    }
   ],
   "source": [
    "q25= df3['Difference'].quantile(0.25)\n",
    "q75= df3['Difference'].quantile(0.75)\n",
    "iqr=q75-q25\n",
    "lower_bound = q25 -(1.5 * iqr) \n",
    "upper_bound = q75 +(1.5 * iqr) \n",
    "amt_of_outliers=len(df3[(df3['Difference']>upper_bound)|(df3['Difference']<lower_bound)])\n",
    "print(amt_of_outliers)"
   ]
  },
  {
   "cell_type": "markdown",
   "metadata": {},
   "source": [
    "Plotting a boxplot to visualise the outliers of the stock changes. "
   ]
  },
  {
   "cell_type": "code",
   "execution_count": 21,
   "metadata": {},
   "outputs": [
    {
     "data": {
      "image/png": "[encoded data removed]",
      "text/plain": [
       "<Figure size 1152x432 with 1 Axes>"
      ]
     },
     "metadata": {
      "needs_background": "light"
     },
     "output_type": "display_data"
    }
   ],
   "source": [
    "fig=plt.figure(figsize=(16,6))\n",
    "ax=fig.add_subplot()\n",
    "ax=sns.boxplot(x=\"Difference\",data=df3)\n",
    "ax.set_title(\"Boxplot to visualise outliers of the stock change\")\n",
    "plt.show()"
   ]
  },
  {
   "cell_type": "markdown",
   "metadata": {},
   "source": [
    "Deriving the amount of outliers of the tweet sentiment scores."
   ]
  },
  {
   "cell_type": "code",
   "execution_count": 22,
   "metadata": {},
   "outputs": [
    {
     "name": "stdout",
     "output_type": "stream",
     "text": [
      "17\n"
     ]
    }
   ],
   "source": [
    "q25= df3['Tweet Sentiment score'].quantile(0.25)\n",
    "q75= df3['Tweet Sentiment score'].quantile(0.75)\n",
    "iqr=q75-q25\n",
    "lower_bound = q25 -(1.5 * iqr) \n",
    "upper_bound = q75 +(1.5 * iqr) \n",
    "amt_of_outliers=len(df3[(df3['Tweet Sentiment score']>upper_bound)|(df3['Tweet Sentiment score']<lower_bound)])\n",
    "print(amt_of_outliers)"
   ]
  },
  {
   "cell_type": "markdown",
   "metadata": {},
   "source": [
    "Plotting a boxplot to visualise the outliers for the sentiment score. "
   ]
  },
  {
   "cell_type": "code",
   "execution_count": 23,
   "metadata": {},
   "outputs": [
    {
     "data": {
      "image/png": "[encoded data removed]",
      "text/plain": [
       "<Figure size 1152x432 with 1 Axes>"
      ]
     },
     "metadata": {
      "needs_background": "light"
     },
     "output_type": "display_data"
    }
   ],
   "source": [
    "fig=plt.figure(figsize=(16,6))\n",
    "ax=fig.add_subplot()\n",
    "ax=sns.boxplot(x=\"Tweet Sentiment score\",data=df3)\n",
    "ax.set_title(\"Boxplot to visualise outliers of Elon's tweet sentiment score\")\n",
    "plt.show()"
   ]
  },
  {
   "cell_type": "markdown",
   "metadata": {},
   "source": [
    "## 8. Building a linear regression model for stock prediction"
   ]
  },
  {
   "cell_type": "markdown",
   "metadata": {},
   "source": [
    "Train and test the model to give stock prediction when a sentiment is keyed in "
   ]
  },
  {
   "cell_type": "code",
   "execution_count": 24,
   "metadata": {
    "scrolled": true
   },
   "outputs": [
    {
     "data": {
      "text/html": [
       "<table class=\"simpletable\">\n",
       "<caption>OLS Regression Results</caption>\n",
       "<tr>\n",
       "  <th>Dep. Variable:</th>       <td>Difference</td>    <th>  R-squared (uncentered):</th>      <td>   0.018</td>\n",
       "</tr>\n",
       "<tr>\n",
       "  <th>Model:</th>                   <td>OLS</td>       <th>  Adj. R-squared (uncentered):</th> <td>   0.016</td>\n",
       "</tr>\n",
       "<tr>\n",
       "  <th>Method:</th>             <td>Least Squares</td>  <th>  F-statistic:       </th>          <td>   7.396</td>\n",
       "</tr>\n",
       "<tr>\n",
       "  <th>Date:</th>             <td>Sat, 14 Mar 2020</td> <th>  Prob (F-statistic):</th>           <td>0.00683</td>\n",
       "</tr>\n",
       "<tr>\n",
       "  <th>Time:</th>                 <td>21:22:13</td>     <th>  Log-Likelihood:    </th>          <td> -1230.4</td>\n",
       "</tr>\n",
       "<tr>\n",
       "  <th>No. Observations:</th>      <td>   395</td>      <th>  AIC:               </th>          <td>   2463.</td>\n",
       "</tr>\n",
       "<tr>\n",
       "  <th>Df Residuals:</th>          <td>   394</td>      <th>  BIC:               </th>          <td>   2467.</td>\n",
       "</tr>\n",
       "<tr>\n",
       "  <th>Df Model:</th>              <td>     1</td>      <th>                     </th>              <td> </td>   \n",
       "</tr>\n",
       "<tr>\n",
       "  <th>Covariance Type:</th>      <td>nonrobust</td>    <th>                     </th>              <td> </td>   \n",
       "</tr>\n",
       "</table>\n",
       "<table class=\"simpletable\">\n",
       "<tr>\n",
       "            <td></td>               <th>coef</th>     <th>std err</th>      <th>t</th>      <th>P>|t|</th>  <th>[0.025</th>    <th>0.975]</th>  \n",
       "</tr>\n",
       "<tr>\n",
       "  <th>Tweet Sentiment score</th> <td>    0.8143</td> <td>    0.299</td> <td>    2.720</td> <td> 0.007</td> <td>    0.226</td> <td>    1.403</td>\n",
       "</tr>\n",
       "</table>\n",
       "<table class=\"simpletable\">\n",
       "<tr>\n",
       "  <th>Omnibus:</th>       <td>62.270</td> <th>  Durbin-Watson:     </th> <td>   2.259</td>\n",
       "</tr>\n",
       "<tr>\n",
       "  <th>Prob(Omnibus):</th> <td> 0.000</td> <th>  Jarque-Bera (JB):  </th> <td> 406.629</td>\n",
       "</tr>\n",
       "<tr>\n",
       "  <th>Skew:</th>          <td> 0.435</td> <th>  Prob(JB):          </th> <td>5.03e-89</td>\n",
       "</tr>\n",
       "<tr>\n",
       "  <th>Kurtosis:</th>      <td> 7.894</td> <th>  Cond. No.          </th> <td>    1.00</td>\n",
       "</tr>\n",
       "</table><br/><br/>Warnings:<br/>[1] Standard Errors assume that the covariance matrix of the errors is correctly specified."
      ],
      "text/plain": [
       "<class 'statsmodels.iolib.summary.Summary'>\n",
       "\"\"\"\n",
       "                                 OLS Regression Results                                \n",
       "=======================================================================================\n",
       "Dep. Variable:             Difference   R-squared (uncentered):                   0.018\n",
       "Model:                            OLS   Adj. R-squared (uncentered):              0.016\n",
       "Method:                 Least Squares   F-statistic:                              7.396\n",
       "Date:                Sat, 14 Mar 2020   Prob (F-statistic):                     0.00683\n",
       "Time:                        21:22:13   Log-Likelihood:                         -1230.4\n",
       "No. Observations:                 395   AIC:                                      2463.\n",
       "Df Residuals:                     394   BIC:                                      2467.\n",
       "Df Model:                           1                                                  \n",
       "Covariance Type:            nonrobust                                                  \n",
       "=========================================================================================\n",
       "                            coef    std err          t      P>|t|      [0.025      0.975]\n",
       "-----------------------------------------------------------------------------------------\n",
       "Tweet Sentiment score     0.8143      0.299      2.720      0.007       0.226       1.403\n",
       "==============================================================================\n",
       "Omnibus:                       62.270   Durbin-Watson:                   2.259\n",
       "Prob(Omnibus):                  0.000   Jarque-Bera (JB):              406.629\n",
       "Skew:                           0.435   Prob(JB):                     5.03e-89\n",
       "Kurtosis:                       7.894   Cond. No.                         1.00\n",
       "==============================================================================\n",
       "\n",
       "Warnings:\n",
       "[1] Standard Errors assume that the covariance matrix of the errors is correctly specified.\n",
       "\"\"\""
      ]
     },
     "execution_count": 24,
     "metadata": {},
     "output_type": "execute_result"
    }
   ],
   "source": [
    "#model training\n",
    "X = df3['Tweet Sentiment score']\n",
    "y = df3['Difference']\n",
    "\n",
    "X_train, X_test, y_train, y_test = train_test_split(X, y, test_size = 0.25)\n",
    "\n",
    "\n",
    "# Create the Model using training data\n",
    "model = sm.OLS(y_train, X_train)\n",
    "\n",
    "# Fit the dataset\n",
    "result = model.fit()\n",
    "\n",
    "# Print the summary results\n",
    "result.summary()"
   ]
  },
  {
   "cell_type": "code",
   "execution_count": 25,
   "metadata": {},
   "outputs": [
    {
     "data": {
      "text/html": [
       "<div>\n",
       "<style scoped>\n",
       "    .dataframe tbody tr th:only-of-type {\n",
       "        vertical-align: middle;\n",
       "    }\n",
       "\n",
       "    .dataframe tbody tr th {\n",
       "        vertical-align: top;\n",
       "    }\n",
       "\n",
       "    .dataframe thead th {\n",
       "        text-align: right;\n",
       "    }\n",
       "</style>\n",
       "<table border=\"1\" class=\"dataframe\">\n",
       "  <thead>\n",
       "    <tr style=\"text-align: right;\">\n",
       "      <th></th>\n",
       "      <th>Tweet Sentiment score</th>\n",
       "      <th>Adj Close</th>\n",
       "      <th>Difference</th>\n",
       "      <th>Predicted Difference</th>\n",
       "    </tr>\n",
       "    <tr>\n",
       "      <th>Date</th>\n",
       "      <th></th>\n",
       "      <th></th>\n",
       "      <th></th>\n",
       "      <th></th>\n",
       "    </tr>\n",
       "  </thead>\n",
       "  <tbody>\n",
       "    <tr>\n",
       "      <td>2012-11-16</td>\n",
       "      <td>0.3612</td>\n",
       "      <td>31.840000</td>\n",
       "      <td>1.020000</td>\n",
       "      <td>NaN</td>\n",
       "    </tr>\n",
       "    <tr>\n",
       "      <td>2012-11-19</td>\n",
       "      <td>0.6697</td>\n",
       "      <td>32.919998</td>\n",
       "      <td>1.079998</td>\n",
       "      <td>NaN</td>\n",
       "    </tr>\n",
       "    <tr>\n",
       "      <td>2012-11-20</td>\n",
       "      <td>0.3042</td>\n",
       "      <td>33.000000</td>\n",
       "      <td>0.080002</td>\n",
       "      <td>0.247702</td>\n",
       "    </tr>\n",
       "    <tr>\n",
       "      <td>2012-11-21</td>\n",
       "      <td>0.7717</td>\n",
       "      <td>32.470001</td>\n",
       "      <td>-0.529999</td>\n",
       "      <td>NaN</td>\n",
       "    </tr>\n",
       "    <tr>\n",
       "      <td>2012-11-23</td>\n",
       "      <td>0.7783</td>\n",
       "      <td>32.130001</td>\n",
       "      <td>-0.340000</td>\n",
       "      <td>NaN</td>\n",
       "    </tr>\n",
       "  </tbody>\n",
       "</table>\n",
       "</div>"
      ],
      "text/plain": [
       "            Tweet Sentiment score  Adj Close  Difference  Predicted Difference\n",
       "Date                                                                          \n",
       "2012-11-16                 0.3612  31.840000    1.020000                   NaN\n",
       "2012-11-19                 0.6697  32.919998    1.079998                   NaN\n",
       "2012-11-20                 0.3042  33.000000    0.080002              0.247702\n",
       "2012-11-21                 0.7717  32.470001   -0.529999                   NaN\n",
       "2012-11-23                 0.7783  32.130001   -0.340000                   NaN"
      ]
     },
     "execution_count": 25,
     "metadata": {},
     "output_type": "execute_result"
    }
   ],
   "source": [
    "df3['Predicted Difference'] = result.fittedvalues\n",
    "df3.head()"
   ]
  },
  {
   "cell_type": "code",
   "execution_count": 26,
   "metadata": {},
   "outputs": [
    {
     "data": {
      "image/png": "[encoded data removed]",
      "text/plain": [
       "<Figure size 720x576 with 1 Axes>"
      ]
     },
     "metadata": {
      "needs_background": "light"
     },
     "output_type": "display_data"
    }
   ],
   "source": [
    "# Plot the dataset and the fitted line.\n",
    "fig = plt.figure(figsize=(10, 8))\n",
    "ax1 = fig.add_subplot(111)\n",
    "df3.plot(kind='scatter', x='Tweet Sentiment score', y='Difference', ax=ax1)\n",
    "\n",
    "# Plot the fitted line here\n",
    "#\n",
    "df3.plot(kind = 'line', x = 'Tweet Sentiment score', y = 'Predicted Difference', ax=ax1, color = 'green')\n",
    "\n",
    "# Update the legend and add a title\n",
    "ax1.legend(['Fitted Line', 'Raw Values'])\n",
    "plt.title(\"Predicted stock difference and tweet sentiment score, raw data & fitted line\")\n",
    "plt.show()"
   ]
  },
  {
   "cell_type": "markdown",
   "metadata": {},
   "source": [
    "### Prediction and future usage"
   ]
  },
  {
   "cell_type": "code",
   "execution_count": 27,
   "metadata": {},
   "outputs": [
    {
     "data": {
      "text/plain": [
       "Tweet Sentiment score    1.221411\n",
       "dtype: float64"
      ]
     },
     "execution_count": 27,
     "metadata": {},
     "output_type": "execute_result"
    }
   ],
   "source": [
    "#in the future, we just have to substitute a corresponding sentiment value to obtain a stock fluctuation\n",
    "\n",
    "X2 = pd.Series({'Tweet Sentiment score': 1.5})\n",
    "result.predict(X2)"
   ]
  },
  {
   "cell_type": "markdown",
   "metadata": {},
   "source": [
    "To improve the model in the future, we can expand the training dataframe using new tweets and their corresponding stock changes, thus obtaining a more accurate prediction model."
   ]
  },
  {
   "cell_type": "markdown",
   "metadata": {},
   "source": [
    "## 9. Executive Summary"
   ]
  },
  {
   "cell_type": "markdown",
   "metadata": {},
   "source": [
    "Elon's tweets are generally rather positive as seen from the scatter plot above, it clusters mainly around the range from 0 to 1 for the tweet sentiment score. The line plotted also shows a postive gradient between the tweets. Through this analysis, we conclude that there is a positive correlation between the stock price and the sentiment of his tweets. \n",
    "We can also conclude that the stock price of Tesla has a steady fluctuation of prices with an average of positive increment."
   ]
  }
 ],
 "metadata": {
  "kernelspec": {
   "display_name": "Python 3",
   "language": "python",
   "name": "python3"
  },
  "language_info": {
   "codemirror_mode": {
    "name": "ipython",
    "version": 3
   },
   "file_extension": ".py",
   "mimetype": "text/x-python",
   "name": "python",
   "nbconvert_exporter": "python",
   "pygments_lexer": "ipython3",
   "version": "3.7.4"
  }
 },
 "nbformat": 4,
 "nbformat_minor": 2
}
